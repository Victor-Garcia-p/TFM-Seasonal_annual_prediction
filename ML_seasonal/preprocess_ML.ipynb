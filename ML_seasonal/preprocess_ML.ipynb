{
 "cells": [
  {
   "cell_type": "markdown",
   "metadata": {},
   "source": [
    "This script preprocesses climate datasets for seasonal machine learning. It calculates selected climate indicators (e.g., rx90p, pr, txx), generates additional features, scales the data, and saves the results as CSV files. It processes ERA5, CMIP6 scenario data, and a test dataset (if specified), while automatically excluding known invalid datasets."
   ]
  },
  {
   "cell_type": "code",
   "execution_count": 1,
   "metadata": {},
   "outputs": [],
   "source": [
    "from warnings import warn\n",
    "import sys\n",
    "\n",
    "sys.path.append('/home/vgarcia/notebooks')\n",
    "from preprocessing_functions import *\n",
    "from experiments_functions import *"
   ]
  },
  {
   "cell_type": "code",
   "execution_count": null,
   "metadata": {},
   "outputs": [
    {
     "name": "stdout",
     "output_type": "stream",
     "text": [
      "Added era5\n"
     ]
    }
   ],
   "source": [
    "# Input file\n",
    "out_preprocess_basepath = \"/data/dl20-data/climate_operational/Victor_data/preprocessed_datasets_ML_monthly\"\n",
    "test_mode = False\n",
    "\n",
    "# Define datasets to process\n",
    "use_era5 = True\n",
    "process_test_dataset = True\n",
    "cmip6_models = []\n",
    "scenarios = []\n",
    "\n",
    "cmip6_models = [\n",
    "    \"access-cm2\",\n",
    "    \"cmcc-esm2\",\n",
    "    \"inm-cm4-8\",\n",
    "    \"inm-cm5-0\",\n",
    "    \"miroc-es2l\",\n",
    "    \"mpi-esm1-2-lr\",\n",
    "    \"mri-esm2-0\",\n",
    "    \"noresm2-mm\"\n",
    "]\n",
    "\n",
    "scenarios = [\"historical\", \"ssp126\", \"ssp245\", \"ssp585\"]\n",
    "\n",
    "# note: ssp585_mri-esm2-0 does not exist, it will be removed\n",
    "datasets = []\n",
    "datasets.extend([\n",
    "    f\"{scenario}_{model}\"\n",
    "    for model in cmip6_models\n",
    "    for scenario in scenarios\n",
    "])\n",
    "\n",
    "# list all datasets to process\n",
    "\n",
    "if 'ssp585_mri-esm2-0' in datasets:\n",
    "    print(\"Removed invalid dataset: ssp585_mri-esm2-0\", )\n",
    "    datasets.remove('ssp585_mri-esm2-0')\n",
    "\n",
    "if use_era5:\n",
    "    print(\"Added era5\")\n",
    "    datasets.insert(0, \"era5\")\n",
    "\n",
    "if process_test_dataset:\n",
    "    print(\"Added test dataset\")\n",
    "    datasets.insert(0, \"test\")"
   ]
  },
  {
   "cell_type": "code",
   "execution_count": null,
   "metadata": {},
   "outputs": [],
   "source": [
    "for dataset in datasets:\n",
    "    print(\"Preprocessing:\", dataset)\n",
    "    # make the out path if it does not exist\n",
    "    out_path = out_preprocess_basepath + f\"/{dataset}/{dataset}.csv\"\n",
    "    indicators_dict = calculate_indicators(indicators = [\"rx90p\", \"pr\", \"txx\"], dataset = dataset, test=test_mode)\n",
    "    indicators_dict = indicators_calculate_extra_features(indicators_dict, lags = 3)\n",
    "\n",
    "    df = dict_to_dataframe(indicators_dict, frequency = False)\n",
    "    df_merged = df_add_index_variables(df, mean = False, trend=False, lags = 0)\n",
    "    df_scaled = encode_and_scale(df_merged)\n",
    "\n",
    "    df_scaled = df_scaled.drop([\"txx_anom\"], axis = 1)\n",
    "\n",
    "    # Save to CSV\n",
    "    df_scaled.to_csv(out_path, index=False)"
   ]
  }
 ],
 "metadata": {
  "kernelspec": {
   "display_name": "myenv",
   "language": "python",
   "name": "python3"
  },
  "language_info": {
   "codemirror_mode": {
    "name": "ipython",
    "version": 3
   },
   "file_extension": ".py",
   "mimetype": "text/x-python",
   "name": "python",
   "nbconvert_exporter": "python",
   "pygments_lexer": "ipython3",
   "version": "3.11.11"
  }
 },
 "nbformat": 4,
 "nbformat_minor": 2
}
