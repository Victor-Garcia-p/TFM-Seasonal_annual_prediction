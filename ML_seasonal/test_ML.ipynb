{
 "cells": [
  {
   "cell_type": "markdown",
   "metadata": {},
   "source": [
    "This script evaluates trained machine learning models (Lasso, HGBR) and a climatology baseline on a seasonal test dataset. It loads the test data, prepares features and targets, loads the trained models from disk, fits a climatology model, and evaluates all models. The evaluation results are saved for further analysis."
   ]
  },
  {
   "cell_type": "code",
   "execution_count": 2,
   "metadata": {},
   "outputs": [],
   "source": [
    "import sys\n",
    "import os\n",
    "sys.path.append('/home/vgarcia/notebooks')\n",
    "\n",
    "from models_functions import *"
   ]
  },
  {
   "cell_type": "code",
   "execution_count": 3,
   "metadata": {},
   "outputs": [],
   "source": [
    "# Input file\n",
    "experiment_name = \"Optimize_ML_all\"\n",
    "trained_model_path = f\"/home/vgarcia/experiments/ML_seasonal_new/{experiment_name}/\"\n",
    "preprocessing_path = \"/data/dl20-data/climate_operational/Victor_data/preprocessed_datasets_ML_monthly_new\"\n",
    "models = [\"Lasso\", \"HGBR\"]"
   ]
  },
  {
   "cell_type": "code",
   "execution_count": 4,
   "metadata": {},
   "outputs": [],
   "source": [
    "# Load test dataset\n",
    "df = pd.read_csv(f\"{preprocessing_path}/test/test.csv\", index_col=0).reset_index()\n",
    "target_cols = [\"rx90p_anom\", \"pr_anom\"]\n",
    "y_test = df[target_cols]\n",
    "X_test = df.drop(columns=target_cols + [\"year\"])"
   ]
  },
  {
   "cell_type": "code",
   "execution_count": 7,
   "metadata": {},
   "outputs": [
    {
     "name": "stdout",
     "output_type": "stream",
     "text": [
      "---Testing (MSE, MSSS, MAE, R2)---\n",
      "Lasso: [0.1743875  0.16152009], [-0.03049585 -0.01001914], [0.30267573 0.2960628 ], [0.07524427 0.11326149]\n",
      "HGBR: [0.17445136 0.16219026], [-0.03087323 -0.01420983], [0.30277219 0.29698027], [0.07490562 0.10958231]\n",
      "Climatology: [0.16922678 0.15991785], [0. 0.], [0.29700949 0.29300301], [0.10261092 0.12205772]\n"
     ]
    }
   ],
   "source": [
    "# load models\n",
    "models_dict = {}\n",
    "for model in models:\n",
    "    models_dict[model] = joblib.load(f\"{trained_model_path}{model}_model.pkl\")\n",
    "\n",
    "# create climatology model\n",
    "clim_model = ClimatologyModel(time_group=\"annual\")\n",
    "clim_model.fit(X_test, None)\n",
    "models_dict[\"Climatology\"] = clim_model\n",
    "\n",
    "evaluate_models(X_test, y_test, models_dict, store_testing=True, out_path = trained_model_path, experiment_name=experiment_name)"
   ]
  }
 ],
 "metadata": {
  "kernelspec": {
   "display_name": "myenv",
   "language": "python",
   "name": "python3"
  },
  "language_info": {
   "codemirror_mode": {
    "name": "ipython",
    "version": 3
   },
   "file_extension": ".py",
   "mimetype": "text/x-python",
   "name": "python",
   "nbconvert_exporter": "python",
   "pygments_lexer": "ipython3",
   "version": "3.11.11"
  }
 },
 "nbformat": 4,
 "nbformat_minor": 2
}
