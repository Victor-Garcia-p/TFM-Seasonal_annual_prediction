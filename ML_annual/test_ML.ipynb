{
 "cells": [
  {
   "cell_type": "markdown",
   "metadata": {},
   "source": [
    "This script evaluates previously trained machine learning models and a climatology baseline on a preprocessed test dataset. It loads the models from disk, prepares input features and target variables, adds a climatology model for comparison, and computes performance metrics. The evaluation results are stored for further analysis."
   ]
  },
  {
   "cell_type": "code",
   "execution_count": 1,
   "metadata": {},
   "outputs": [],
   "source": [
    "import sys\n",
    "import os\n",
    "sys.path.append('/home/vgarcia/notebooks')\n",
    "\n",
    "from models_functions import *"
   ]
  },
  {
   "cell_type": "code",
   "execution_count": 9,
   "metadata": {},
   "outputs": [],
   "source": [
    "# Input file\n",
    "experiment_name = \"Optimize_ML_all_Orinoco\"\n",
    "trained_model_path = f\"/home/vgarcia/experiments/ML_annual_new/{experiment_name}/\"\n",
    "preprocessing_path = \"/data/dl20-data/climate_operational/Victor_data/preprocessed_datasets_ML_Orinoco\"\n",
    "models = [\"Lasso\", \"HGBR\"]"
   ]
  },
  {
   "cell_type": "code",
   "execution_count": 10,
   "metadata": {},
   "outputs": [],
   "source": [
    "# Load test dataset\n",
    "df = pd.read_csv(f\"{preprocessing_path}/test/test.csv\", index_col=0).reset_index()\n",
    "target_cols = [\"rx90p_anom\", \"pr_anom\"]\n",
    "y_test = df[target_cols]\n",
    "X_test = df.drop(columns=target_cols + [\"year\"])"
   ]
  },
  {
   "cell_type": "code",
   "execution_count": 11,
   "metadata": {},
   "outputs": [
    {
     "name": "stdout",
     "output_type": "stream",
     "text": [
      "---Testing (MSE, MSSS, MAE, R2)---\n",
      "Lasso: [0.16632725 0.15179765], [-0.15743708 -0.10019775], [0.30690766 0.2918823 ], [0.17510734 0.21319719]\n",
      "HGBR: [0.15633923 0.15078546], [-0.08793248 -0.09286162], [0.30439771 0.29303453], [0.22464251 0.21844359]\n",
      "Climatology: [0.14370306 0.13797306], [0. 0.], [0.29067353 0.27921774], [0.28731101 0.28485328]\n"
     ]
    }
   ],
   "source": [
    "# load models\n",
    "models_dict = {}\n",
    "for model in models:\n",
    "    models_dict[model] = joblib.load(f\"{trained_model_path}{model}_model.pkl\")\n",
    "\n",
    "# create climatology model\n",
    "clim_model = ClimatologyModel(time_group=\"annual\")\n",
    "clim_model.fit(X_test, None, target_lag_prefix = \"_DJF\")\n",
    "models_dict[\"Climatology\"] = clim_model\n",
    "\n",
    "evaluate_models(X_test, y_test, models_dict, store_testing=True, out_path = trained_model_path, experiment_name=experiment_name)"
   ]
  }
 ],
 "metadata": {
  "kernelspec": {
   "display_name": "myenv",
   "language": "python",
   "name": "python3"
  },
  "language_info": {
   "codemirror_mode": {
    "name": "ipython",
    "version": 3
   },
   "file_extension": ".py",
   "mimetype": "text/x-python",
   "name": "python",
   "nbconvert_exporter": "python",
   "pygments_lexer": "ipython3",
   "version": "3.11.11"
  }
 },
 "nbformat": 4,
 "nbformat_minor": 2
}
