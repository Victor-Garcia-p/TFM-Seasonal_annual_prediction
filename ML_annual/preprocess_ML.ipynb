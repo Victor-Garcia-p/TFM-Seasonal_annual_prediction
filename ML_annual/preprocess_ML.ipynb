{
 "cells": [
  {
   "cell_type": "markdown",
   "metadata": {},
   "source": [
    "This script preprocesses CMIP6 and ERA5 climate datasets by computing annual indicators (e.g., rx90p, pr, txx), merging them with climate indices, scaling features, and exporting the final data as CSV files for machine learning model training."
   ]
  },
  {
   "cell_type": "code",
   "execution_count": 1,
   "metadata": {},
   "outputs": [],
   "source": [
    "from warnings import warn\n",
    "import sys\n",
    "\n",
    "sys.path.append('/home/vgarcia/notebooks')\n",
    "from preprocessing_functions import *\n",
    "from experiments_functions import *"
   ]
  },
  {
   "cell_type": "code",
   "execution_count": null,
   "metadata": {},
   "outputs": [
    {
     "name": "stdout",
     "output_type": "stream",
     "text": [
      "Added test dataset\n"
     ]
    }
   ],
   "source": [
    "# Input file\n",
    "out_preprocess_basepath = \"/data/dl20-data/climate_operational/Victor_data/preprocessed_datasets_ML\"\n",
    "test_mode = False\n",
    "\n",
    "# Define datasets to process\n",
    "use_era5 = False\n",
    "process_test_dataset = False\n",
    "lag_index = False                # use Niño3.4 from the previous month\n",
    "cmip6_models = []\n",
    "scenarios = []\n",
    "\n",
    "cmip6_models = [\n",
    "    \"inm-cm5-0\",\n",
    "    \"miroc-es2l\",\n",
    "    \"mpi-esm1-2-lr\",\n",
    "    \"mri-esm2-0\",\n",
    "    \"noresm2-mm\"\n",
    "]\n",
    "\n",
    "scenarios = [\"historical\", \"ssp126\", \"ssp245\", \"ssp585\"]\n",
    "datasets = []\n",
    "scenarios = []\n",
    "\n",
    "# note: ssp585_mri-esm2-0 does not exist, it will be removed\n",
    "datasets = []\n",
    "datasets.extend([\n",
    "    f\"{scenario}_{model}\"\n",
    "    for model in cmip6_models\n",
    "    for scenario in scenarios\n",
    "])\n",
    "\n",
    "# list all datasets to process\n",
    "\n",
    "if 'ssp585_mri-esm2-0' in datasets:\n",
    "    print(\"Removed invalid dataset: ssp585_mri-esm2-0\", )\n",
    "    datasets.remove('ssp585_mri-esm2-0')\n",
    "\n",
    "if use_era5:\n",
    "    print(\"Added era5\")\n",
    "    datasets.insert(0, \"era5\")\n",
    "\n",
    "if process_test_dataset:\n",
    "    print(\"Added test dataset\")\n",
    "    datasets.insert(0, \"test\")"
   ]
  },
  {
   "cell_type": "code",
   "execution_count": null,
   "metadata": {},
   "outputs": [],
   "source": [
    "for dataset in datasets:\n",
    "    print(\"Preprocessing:\", dataset)\n",
    "    # make the out path if it does not exist\n",
    "    out_path = out_preprocess_basepath + f\"/{dataset}\"\n",
    "    os.makedirs(out_path, exist_ok=True)\n",
    "\n",
    "    ## Load and preprocess indicators maps\n",
    "    indicators_dict = calculate_indicators(indicators = [\"rx90p\", \"pr\", \"txx\"], dataset = dataset, test=test_mode)\n",
    "    annual_dict = annual_preprocessing(indicators_dict)\n",
    "\n",
    "    df = dict_to_dataframe(annual_dict)\n",
    "    df = df.drop(\"txx_anom\", axis=1)\n",
    "\n",
    "    df_merged = df_annual_add_index_variables(df, annual_trend=True)\n",
    "    df_scaled = encode_and_scale(df_merged)\n",
    "\n",
    "    cols = ['rx90p_anom', 'pr_anom'] + [col for col in df_scaled.columns if col not in ['rx90p_anom', 'pr_anom']]\n",
    "    df_scaled = df_scaled[cols]\n",
    "\n",
    "    # Save to CSV\n",
    "    df_scaled.to_csv(os.path.join(out_path, f\"{dataset}.csv\"), index=False)"
   ]
  }
 ],
 "metadata": {
  "kernelspec": {
   "display_name": "myenv",
   "language": "python",
   "name": "python3"
  },
  "language_info": {
   "codemirror_mode": {
    "name": "ipython",
    "version": 3
   },
   "file_extension": ".py",
   "mimetype": "text/x-python",
   "name": "python",
   "nbconvert_exporter": "python",
   "pygments_lexer": "ipython3",
   "version": "3.11.11"
  }
 },
 "nbformat": 4,
 "nbformat_minor": 2
}
