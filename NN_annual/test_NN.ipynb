{
 "cells": [
  {
   "cell_type": "markdown",
   "metadata": {},
   "source": [
    "This script evaluates deep learning models on preprocessed climate datasets stored in Zarr format. It loads test data (season_da, annual_da, and index_da), applies the trained model(s) to generate predictions, and computes performance metrics (R², MAE, MSE) for target variables (rx90p_anom, pr_anom). It optionally saves results to CSV and model predictions to Zarr format for further analysis or visualization."
   ]
  },
  {
   "cell_type": "code",
   "execution_count": 33,
   "metadata": {},
   "outputs": [],
   "source": [
    "from warnings import warn\n",
    "import sys\n",
    "import os\n",
    "import pandas as pd\n",
    "import numpy as np\n",
    "from sklearn.metrics import r2_score, mean_absolute_error, mean_squared_error\n",
    "\n",
    "from models_NN import *"
   ]
  },
  {
   "cell_type": "code",
   "execution_count": null,
   "metadata": {},
   "outputs": [],
   "source": [
    "# Input file\n",
    "test_dataset_path = \"/data/dl20-data/climate_operational/Victor_data/preprocessed_datasets_NN_new/test/\"\n",
    "trained_models_basepath = \"/home/vgarcia/experiments/NN_annual_new/\"\n",
    "\n",
    "prediction_path = \"/data/dl20-data/climate_operational/Victor_data/predicted_datasets_NN_new/\"\n",
    "test_score_path = f\"{trained_models_basepath}test_metrics.csv\"\n",
    "\n",
    "#\"SmallUNet_Hist\", \"SmallUNet_era5_12batch\"\n",
    "experiment_names = [\"SmallUNet_All\", \"SmallUNet_All_subset\", \"SmallUNet_Hist\", \"SmallUNet_Hist_subset\",\n",
    "                    \"SmallUNet_era5\"]\n",
    "\n",
    "model_name = \"SmallUNet\"\n",
    "batch_size = 8\n",
    "test_mode = False\n",
    "overwrite_test = True\n",
    "store_predictions = True"
   ]
  },
  {
   "cell_type": "code",
   "execution_count": 35,
   "metadata": {},
   "outputs": [],
   "source": [
    "# check inputs\n",
    "model_dict = {\"SmallUNet\" : SmallUNet()}\n",
    "\n",
    "# ensure models and parameters exist\n",
    "if model_name not in model_dict:\n",
    "    raise NotImplementedError"
   ]
  },
  {
   "cell_type": "code",
   "execution_count": null,
   "metadata": {},
   "outputs": [
    {
     "name": "stderr",
     "output_type": "stream",
     "text": [
      "/tmp/ipykernel_1234256/1266053676.py:47: FutureWarning: You are using `torch.load` with `weights_only=False` (the current default value), which uses the default pickle module implicitly. It is possible to construct malicious pickle data which will execute arbitrary code during unpickling (See https://github.com/pytorch/pytorch/blob/main/SECURITY.md#untrusted-models for more details). In a future release, the default value for `weights_only` will be flipped to `True`. This limits the functions that could be executed during unpickling. Arbitrary objects will no longer be allowed to be loaded via this mode unless they are explicitly allowlisted by the user via `torch.serialization.add_safe_globals`. We recommend you start setting `weights_only=True` for any use case where you don't have full control of the loaded file. Please open an issue on GitHub for any issues related to this experimental feature.\n",
      "  checkpoint = torch.load(best_model_path, map_location=device)\n"
     ]
    },
    {
     "name": "stdout",
     "output_type": "stream",
     "text": [
      "Testing SmallUNet_All\n",
      "✅ Loaded model from /home/vgarcia/experiments/NN_annual_new/SmallUNet_All/, trained until epoch 22\n"
     ]
    },
    {
     "name": "stderr",
     "output_type": "stream",
     "text": [
      "Predicting:   0%|          | 0/6 [00:00<?, ?it/s]"
     ]
    },
    {
     "name": "stderr",
     "output_type": "stream",
     "text": [
      "                                                         \r"
     ]
    },
    {
     "name": "stdout",
     "output_type": "stream",
     "text": [
      "Appended new results for model 'SmallUNet_All' to /home/vgarcia/experiments/NN_annual_new/test_metrics.csv.\n",
      "Storing predictions\n"
     ]
    },
    {
     "name": "stderr",
     "output_type": "stream",
     "text": [
      "/tmp/ipykernel_1234256/1266053676.py:47: FutureWarning: You are using `torch.load` with `weights_only=False` (the current default value), which uses the default pickle module implicitly. It is possible to construct malicious pickle data which will execute arbitrary code during unpickling (See https://github.com/pytorch/pytorch/blob/main/SECURITY.md#untrusted-models for more details). In a future release, the default value for `weights_only` will be flipped to `True`. This limits the functions that could be executed during unpickling. Arbitrary objects will no longer be allowed to be loaded via this mode unless they are explicitly allowlisted by the user via `torch.serialization.add_safe_globals`. We recommend you start setting `weights_only=True` for any use case where you don't have full control of the loaded file. Please open an issue on GitHub for any issues related to this experimental feature.\n",
      "  checkpoint = torch.load(best_model_path, map_location=device)\n"
     ]
    },
    {
     "name": "stdout",
     "output_type": "stream",
     "text": [
      "✅ Saved predictions\n",
      "Testing SmallUNet_All_subset\n",
      "✅ Loaded model from /home/vgarcia/experiments/NN_annual_new/SmallUNet_All_subset/, trained until epoch 13\n"
     ]
    },
    {
     "name": "stderr",
     "output_type": "stream",
     "text": [
      "Predicting:  33%|███▎      | 2/6 [01:57<03:56, 59.05s/it]"
     ]
    }
   ],
   "source": [
    "# Load preprocessed datasets\n",
    "season_da = xr.open_zarr(test_dataset_path + \"/season_da.zarr\")\n",
    "season_da = season_da[list(season_da.data_vars)[0]]\n",
    "\n",
    "annual_da = xr.open_zarr(test_dataset_path + \"/annual_da.zarr\")\n",
    "annual_da = annual_da[list(annual_da.data_vars)[0]]\n",
    "\n",
    "index_da = xr.open_zarr(test_dataset_path + \"/index_da.zarr\")\n",
    "index_da = index_da[list(index_da.data_vars)[0]]\n",
    "\n",
    "if test_mode:\n",
    "    print(\"WARNING: TEST model\")\n",
    "    index_da = index_da.sel(year=slice(\"2000\", \"2001\"))\n",
    "    season_da = season_da.sel(year=slice(\"2000\", \"2001\"))\n",
    "    annual_da = annual_da.sel(year=slice(\"2000\", \"2001\"))\n",
    "\n",
    "n_total = season_da.sizes['year']\n",
    "indices = list(range(n_total))\n",
    "test_dataset = XarrayENSODataset(season_da, index_da, annual_da, indices)\n",
    "test_loader = DataLoader(test_dataset, batch_size=batch_size)\n",
    "\n",
    "# Setup model, optimizer, loss\n",
    "for experiment in experiment_names:\n",
    "    print(f\"Testing {experiment}\")\n",
    "\n",
    "    # check if experiment is already tested\n",
    "    if os.path.exists(test_score_path):\n",
    "        df_exists = True\n",
    "        df_existing = pd.read_csv(test_score_path)\n",
    "        if experiment in df_existing[\"Model\"].values:\n",
    "            raise FileExistsError(f\"Model '{experiment}' already exists in {test_score_path}\")\n",
    "\n",
    "    ### Loads weights of the model ###\n",
    "    device = torch.device(\"cuda\" if torch.cuda.is_available() else \"cpu\")\n",
    "    model = model_dict[model_name].to(device)\n",
    "    optimizer = optim.Adam(model.parameters(), lr=1e-3)\n",
    "    criterion = MaskedMSELoss()\n",
    "\n",
    "    trained_model_path = f\"{trained_models_basepath}{experiment}/\"\n",
    "    best_model_files = [f for f in os.listdir(trained_model_path) if f.endswith('_best.pt')]\n",
    "\n",
    "    if best_model_files:\n",
    "        best_model_path = os.path.join(trained_model_path, best_model_files[0])\n",
    "    else:\n",
    "        print(\"❌ No '_best.pt' file found.\")\n",
    "\n",
    "    checkpoint = torch.load(best_model_path, map_location=device)\n",
    "    model.load_state_dict(checkpoint['model_state_dict'])\n",
    "    optimizer.load_state_dict(checkpoint['optimizer_state_dict'])\n",
    "    print(f\"✅ Loaded model from {trained_model_path}, trained until epoch {checkpoint['epoch']}\")\n",
    "    best_score = checkpoint[\"score\"]\n",
    "\n",
    "    ### Run Predictions ###\n",
    "    all_predictions = []\n",
    "    all_targets = []\n",
    "    all_masks = []\n",
    "\n",
    "    with torch.no_grad():\n",
    "        for x_maps, x_nino, targets, y_mask, x_mask in tqdm(test_loader, desc=\"Predicting\", leave=False):\n",
    "            x_maps, x_nino = x_maps.to(device), x_nino.to(device)\n",
    "\n",
    "            predictions = model(x_maps, x_nino)\n",
    "            all_predictions.append(predictions.cpu())\n",
    "            all_targets.append(targets)\n",
    "            all_masks.append(y_mask)\n",
    "\n",
    "    # Convert predictions to NumPy arrays\n",
    "    y_pred = torch.cat(all_predictions).numpy()\n",
    "    y_true = torch.cat(all_targets).numpy()\n",
    "    y_mask = torch.cat(all_masks).numpy()\n",
    "\n",
    "    ### Calculate performance metrics and store them in csv ###\n",
    "    r2_results = {}\n",
    "    mae_results = {}\n",
    "    mse_results = {}\n",
    "    targets = [\"rx90p_anom\", \"pr_anom\"]\n",
    "\n",
    "    for i, name in enumerate(targets):\n",
    "        mask = y_mask[:, i] == 1\n",
    "        y_true_i = y_true[:, i][mask]\n",
    "        y_pred_i = y_pred[:, i][mask]\n",
    "\n",
    "        if len(y_true_i) > 0:\n",
    "            r2 = r2_score(y_true_i, y_pred_i)\n",
    "            mae = mean_absolute_error(y_true_i, y_pred_i)\n",
    "            mse = mean_squared_error(y_true_i, y_pred_i)\n",
    "        else:\n",
    "            r2, mae, mse = np.nan, np.nan, np.nan\n",
    "\n",
    "        mse_results[f\"MSE_{name}\"] = mse\n",
    "        mae_results[f\"MAE_{name}\"] = mae\n",
    "        r2_results[f\"R2_{name}\"] = r2\n",
    "\n",
    "    results = {\"Model\": experiment}\n",
    "    results.update(mse_results)\n",
    "    results.update(mae_results)\n",
    "    results.update(r2_results)\n",
    "\n",
    "    df_new = pd.DataFrame([results]) \n",
    "\n",
    "    if os.path.exists(test_score_path):\n",
    "        df_combined = pd.concat([df_existing, df_new], ignore_index=True)\n",
    "        df_combined.to_csv(test_score_path, index=False)\n",
    "        print(f\"Appended new results for model '{experiment}' to {test_score_path}.\")\n",
    "    else:\n",
    "        df_new.to_csv(test_score_path, index=False)\n",
    "        print(f\"Created {test_score_path} and saved results for model '{experiment}'.\")\n",
    "\n",
    "    ### Store predictions in zarr ###\n",
    "    if store_predictions:\n",
    "        print(\"Storing predictions\")\n",
    "        prediction_path = f\"{prediction_path}{experiment}_predicted.zarr\"\n",
    "\n",
    "        lat = annual_da['lat'].values\n",
    "        lon = annual_da['lon'].values\n",
    "        years = annual_da['year'].values\n",
    "        variables = [0, 1]\n",
    "\n",
    "        # mask ocean\n",
    "        y_pred_masked = np.where(y_mask, y_pred, np.nan)\n",
    "\n",
    "        # Create xarray DataArray\n",
    "        pred_da = xr.DataArray(\n",
    "            y_pred_masked,\n",
    "            dims=[\"year\", \"variable_index\", \"lat\", \"lon\"],\n",
    "            coords={\n",
    "                \"year\": years,\n",
    "                \"variable_index\": variables,\n",
    "                \"lat\": lat,\n",
    "                \"lon\": lon\n",
    "            },\n",
    "            name=\"predicted_annual\"\n",
    "        )\n",
    "\n",
    "        pred_da = pred_da.chunk({\n",
    "            \"year\": -1,      \n",
    "            \"lat\": 1,                \n",
    "            \"lon\": 1,\n",
    "            \"variable_index\": 1\n",
    "        })\n",
    "\n",
    "        pred_da.to_zarr(prediction_path, mode=\"w\")\n",
    "        print(\"✅ Saved predictions\")\n"
   ]
  }
 ],
 "metadata": {
  "kernelspec": {
   "display_name": "myenv",
   "language": "python",
   "name": "python3"
  },
  "language_info": {
   "codemirror_mode": {
    "name": "ipython",
    "version": 3
   },
   "file_extension": ".py",
   "mimetype": "text/x-python",
   "name": "python",
   "nbconvert_exporter": "python",
   "pygments_lexer": "ipython3",
   "version": "3.11.11"
  }
 },
 "nbformat": 4,
 "nbformat_minor": 2
}
